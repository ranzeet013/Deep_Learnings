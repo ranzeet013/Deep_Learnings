{
  "nbformat": 4,
  "nbformat_minor": 0,
  "metadata": {
    "colab": {
      "provenance": []
    },
    "kernelspec": {
      "name": "python3",
      "display_name": "Python 3"
    },
    "language_info": {
      "name": "python"
    }
  },
  "cells": [
    {
      "cell_type": "markdown",
      "source": [
        "**Piecewise Constant Scheduling**\n",
        "\n",
        "Piecewise constant scheduling is a method used in optimization, particularly in training neural networks, where the learning rate is kept constant over specific intervals of time and then changed at predefined points.\n",
        "\n",
        "Mathematical Formulation\n",
        "\n",
        "Given intervals\n",
        "\n",
        "[\n",
        "𝑡\n",
        "0\n",
        ",\n",
        "𝑡\n",
        "1\n",
        ")\n",
        ",\n",
        "[\n",
        "𝑡\n",
        "1\n",
        ",\n",
        "𝑡\n",
        "2\n",
        ")\n",
        ",\n",
        "…\n",
        ",\n",
        "[\n",
        "𝑡\n",
        "𝑘\n",
        "−\n",
        "1\n",
        ",\n",
        "𝑡\n",
        "𝑘\n",
        ")\n",
        "[t\n",
        "0\n",
        "​\n",
        " ,t\n",
        "1\n",
        "​\n",
        " ),[t\n",
        "1\n",
        "​\n",
        " ,t\n",
        "2\n",
        "​\n",
        " ),…,[t\n",
        "k−1\n",
        "​\n",
        " ,t\n",
        "k\n",
        "​\n",
        " ) with learning rates\n",
        "𝜂\n",
        "𝑖\n",
        "η\n",
        "i\n",
        "​\n",
        "  for\n",
        "𝑡\n",
        "𝑖\n",
        "−\n",
        "1\n",
        "≤\n",
        "𝑡\n",
        "<\n",
        "𝑡\n",
        "𝑖\n",
        "t\n",
        "i−1\n",
        "​\n",
        " ≤t<t\n",
        "i\n",
        "​\n",
        " , the learning rate\n",
        "𝜂\n",
        "𝑡\n",
        "η\n",
        "t\n",
        "​\n",
        "  can be expressed as:\n",
        "\n",
        "  η\n",
        "t\n",
        "​\n",
        " =η\n",
        "i\n",
        "​\n",
        " fort\n",
        "i−1\n",
        "​\n",
        " ≤t<t\n",
        "i\n",
        "​\n",
        "\n",
        "Update Rule\n",
        "\n",
        "The gradient descent update rule becomes:\n",
        "\n",
        "θ\n",
        "t+1\n",
        "​\n",
        " =θ\n",
        "t\n",
        "​\n",
        " −η\n",
        "i\n",
        "​\n",
        " ∇\n",
        "θ\n",
        "​\n",
        " L(θ\n",
        "t\n",
        "​\n",
        " )fort\n",
        "i−1\n",
        "​\n",
        " ≤t<t\n",
        "i\n",
        "​\n"
      ],
      "metadata": {
        "id": "t1_1puO7vtRA"
      }
    },
    {
      "cell_type": "code",
      "execution_count": 1,
      "metadata": {
        "id": "p2idvQH2vC_j"
      },
      "outputs": [],
      "source": [
        "import tensorflow as tf\n",
        "import numpy as np\n",
        "import matplotlib.pyplot as plt"
      ]
    },
    {
      "cell_type": "code",
      "source": [
        "# Define the model architecture\n",
        "def build_model():\n",
        "    model = tf.keras.Sequential()\n",
        "    model.add(tf.keras.layers.Flatten(input_shape=[28, 28]))\n",
        "\n",
        "    for layer in range(100):\n",
        "        model.add(tf.keras.layers.Dense(100, activation=\"relu\", kernel_initializer=\"he_normal\"))\n",
        "\n",
        "    # Add the output layer with 10 neurons and softmax activation\n",
        "    model.add(tf.keras.layers.Dense(10, activation=\"softmax\"))\n",
        "\n",
        "    return model"
      ],
      "metadata": {
        "id": "4Xqdcyf6vMaM"
      },
      "execution_count": 2,
      "outputs": []
    },
    {
      "cell_type": "code",
      "source": [
        "# Load Fashion MNIST dataset\n",
        "fashion_mnist = tf.keras.datasets.fashion_mnist.load_data()\n",
        "(X_train_full, y_train_full), (X_test, y_test) = fashion_mnist\n",
        "\n",
        "# Split the data into training and validation sets\n",
        "X_train, y_train = X_train_full[:-5000], y_train_full[:-5000]\n",
        "X_valid, y_valid = X_train_full[-5000:], y_train_full[-5000:]\n",
        "\n",
        "# Normalize the pixel values to the range [0, 1]\n",
        "X_train, X_valid, X_test = X_train / 255.0, X_valid / 255.0, X_test / 255.0"
      ],
      "metadata": {
        "colab": {
          "base_uri": "https://localhost:8080/"
        },
        "id": "Bub7zsiivOp9",
        "outputId": "44e31fd3-3a1f-4a53-b05b-839c32cadbbd"
      },
      "execution_count": 3,
      "outputs": [
        {
          "output_type": "stream",
          "name": "stdout",
          "text": [
            "Downloading data from https://storage.googleapis.com/tensorflow/tf-keras-datasets/train-labels-idx1-ubyte.gz\n",
            "29515/29515 [==============================] - 0s 0us/step\n",
            "Downloading data from https://storage.googleapis.com/tensorflow/tf-keras-datasets/train-images-idx3-ubyte.gz\n",
            "26421880/26421880 [==============================] - 0s 0us/step\n",
            "Downloading data from https://storage.googleapis.com/tensorflow/tf-keras-datasets/t10k-labels-idx1-ubyte.gz\n",
            "5148/5148 [==============================] - 0s 0us/step\n",
            "Downloading data from https://storage.googleapis.com/tensorflow/tf-keras-datasets/t10k-images-idx3-ubyte.gz\n",
            "4422102/4422102 [==============================] - 0s 0us/step\n"
          ]
        }
      ]
    },
    {
      "cell_type": "code",
      "source": [
        "# Define the optimizer with legacy SGD and learning rate decay\n",
        "optimizer = tf.keras.optimizers.legacy.SGD(learning_rate=0.01, decay=1e-4)\n",
        "\n",
        "# Compute the mean and standard deviation of the training set for normalization\n",
        "pixel_means = X_train.mean(axis=0, keepdims=True)\n",
        "pixel_stds = X_train.std(axis=0, keepdims=True)\n",
        "\n",
        "# Normalize the datasets using the computed mean and std deviation\n",
        "X_train_scaled = (X_train - pixel_means) / pixel_stds\n",
        "X_valid_scaled = (X_valid - pixel_means) / pixel_stds\n",
        "X_test_scaled = (X_test - pixel_means) / pixel_stds"
      ],
      "metadata": {
        "id": "kxhJ0W46vQv8"
      },
      "execution_count": 4,
      "outputs": []
    },
    {
      "cell_type": "code",
      "source": [
        "# Define class names\n",
        "class_names = [\"T-shirt/top\", \"Trouser\", \"Pullover\", \"Dress\", \"Coat\",\n",
        "               \"Sandal\", \"Shirt\", \"Sneaker\", \"Bag\", \"Ankle boot\"]"
      ],
      "metadata": {
        "id": "cNBrVPOYvSsN"
      },
      "execution_count": 5,
      "outputs": []
    },
    {
      "cell_type": "code",
      "source": [
        "# Define the model architecture\n",
        "model = tf.keras.Sequential()\n",
        "model.add(tf.keras.layers.Flatten(input_shape=[28, 28]))\n",
        "\n",
        "for layer in range(100):\n",
        "    model.add(tf.keras.layers.Dense(100, activation=\"relu\", kernel_initializer=\"he_normal\"))\n",
        "\n",
        "# Add the output layer with 10 neurons and softmax activation\n",
        "model.add(tf.keras.layers.Dense(10, activation=\"softmax\"))\n",
        "\n",
        "# Define the optimizer with legacy SGD and learning rate decay\n"
      ],
      "metadata": {
        "id": "2Iuw_FQAvYX5"
      },
      "execution_count": 8,
      "outputs": []
    },
    {
      "cell_type": "code",
      "source": [
        "# Define a learning rate schedule\n",
        "lr_schedule = tf.keras.optimizers.schedules.PiecewiseConstantDecay(\n",
        "    boundaries=[50_000, 80_000],\n",
        "    values=[0.01, 0.005, 0.001]\n",
        ")\n",
        "optimizer = tf.keras.optimizers.SGD(learning_rate=lr_schedule)"
      ],
      "metadata": {
        "id": "j_GGFWN5vbN4"
      },
      "execution_count": 9,
      "outputs": []
    },
    {
      "cell_type": "code",
      "source": [
        "# Function to build and train the model\n",
        "def build_and_train_model(optimizer):\n",
        "    model.compile(loss=\"sparse_categorical_crossentropy\",\n",
        "                  optimizer=optimizer,\n",
        "                  metrics=[\"accuracy\"])\n",
        "    history = model.fit(X_train_scaled, y_train, epochs=10,\n",
        "                        validation_data=(X_valid_scaled, y_valid))\n",
        "    return history\n",
        "\n",
        "# Train the model with power scheduling\n",
        "history_power_scheduling = build_and_train_model(optimizer)"
      ],
      "metadata": {
        "colab": {
          "base_uri": "https://localhost:8080/"
        },
        "id": "b8tBLI6MvhTM",
        "outputId": "790d2254-b413-4f65-dc0f-91361c0e2b0d"
      },
      "execution_count": 10,
      "outputs": [
        {
          "output_type": "stream",
          "name": "stdout",
          "text": [
            "Epoch 1/10\n",
            "1719/1719 [==============================] - 39s 18ms/step - loss: 1.9246 - accuracy: 0.1953 - val_loss: 1.5117 - val_accuracy: 0.3544\n",
            "Epoch 2/10\n",
            "1719/1719 [==============================] - 30s 17ms/step - loss: 1.5487 - accuracy: 0.3239 - val_loss: 1.2883 - val_accuracy: 0.4496\n",
            "Epoch 3/10\n",
            "1719/1719 [==============================] - 32s 19ms/step - loss: 1.4271 - accuracy: 0.3858 - val_loss: 1.5362 - val_accuracy: 0.3548\n",
            "Epoch 4/10\n",
            "1719/1719 [==============================] - 32s 19ms/step - loss: 2.1251 - accuracy: 0.1665 - val_loss: 1.4967 - val_accuracy: 0.3206\n",
            "Epoch 5/10\n",
            "1719/1719 [==============================] - 31s 18ms/step - loss: 1.8891 - accuracy: 0.2327 - val_loss: 1.7214 - val_accuracy: 0.2192\n",
            "Epoch 6/10\n",
            "1719/1719 [==============================] - 31s 18ms/step - loss: 1.4675 - accuracy: 0.3660 - val_loss: 1.2642 - val_accuracy: 0.4532\n",
            "Epoch 7/10\n",
            "1719/1719 [==============================] - 31s 18ms/step - loss: 1.2970 - accuracy: 0.4533 - val_loss: 1.2742 - val_accuracy: 0.4368\n",
            "Epoch 8/10\n",
            "1719/1719 [==============================] - 31s 18ms/step - loss: 1.1918 - accuracy: 0.4960 - val_loss: 1.3178 - val_accuracy: 0.4394\n",
            "Epoch 9/10\n",
            "1719/1719 [==============================] - 31s 18ms/step - loss: 1.3281 - accuracy: 0.4273 - val_loss: 1.4966 - val_accuracy: 0.3456\n",
            "Epoch 10/10\n",
            "1719/1719 [==============================] - 29s 17ms/step - loss: 1.2261 - accuracy: 0.4618 - val_loss: 1.2345 - val_accuracy: 0.4676\n"
          ]
        }
      ]
    },
    {
      "cell_type": "code",
      "source": [
        "# Define boundaries and values for piecewise constant scheduling\n",
        "boundaries = [50_000, 80_000]\n",
        "values = [0.01, 0.005, 0.001]\n",
        "\n",
        "# Create an array representing the steps\n",
        "steps = np.arange(100_000)\n",
        "\n",
        "# Initialize the learning rates array with the first value\n",
        "lrs = np.full(len(steps), values[0])\n",
        "\n",
        "# Update the learning rates based on the boundaries\n",
        "for boundary, value in zip(boundaries, values[1:]):\n",
        "    lrs[boundary:] = value\n",
        "\n",
        "# Plot the learning rates over the steps\n",
        "plt.figure(figsize=(5, 3))\n",
        "plt.plot(steps, lrs, \"-\")\n",
        "plt.axis([0, steps.max(), 0, 0.0105])\n",
        "plt.xlabel(\"Step\")\n",
        "plt.ylabel(\"Learning Rate\")\n",
        "plt.title(\"Piecewise Constant Scheduling\", fontsize=14)\n",
        "plt.grid(True)\n",
        "plt.show()"
      ],
      "metadata": {
        "colab": {
          "base_uri": "https://localhost:8080/",
          "height": 334
        },
        "id": "XN90zf1Hvru9",
        "outputId": "eff5478c-61b8-4c2c-ee9d-715ca9756b87"
      },
      "execution_count": 12,
      "outputs": [
        {
          "output_type": "display_data",
          "data": {
            "text/plain": [
              "<Figure size 500x300 with 1 Axes>"
            ],
            "image/png": "[encoded data removed]"
          },
          "metadata": {}
        }
      ]
    },
    {
      "cell_type": "code",
      "source": [
        "# Define a function to create a piecewise constant schedule\n",
        "def piecewise_constant(boundaries, values):\n",
        "    # Convert boundaries to a numpy array, prepending 0 to the boundaries\n",
        "    boundaries = np.array([0] + boundaries)\n",
        "    # Convert values to a numpy array\n",
        "    values = np.array(values)\n",
        "\n",
        "    # Define the piecewise constant function\n",
        "    def piecewise_constant_fn(epoch):\n",
        "        # Return the appropriate value based on the current epoch\n",
        "        return values[(boundaries > epoch).argmax() - 1]\n",
        "\n",
        "    return piecewise_constant_fn\n",
        "\n",
        "# Create a piecewise constant function with specified boundaries and values\n",
        "piecewise_constant_fn = piecewise_constant([5, 15], [0.01, 0.005, 0.001])"
      ],
      "metadata": {
        "id": "Hqd7MYRnw7b_"
      },
      "execution_count": 13,
      "outputs": []
    },
    {
      "cell_type": "code",
      "source": [
        "def piecewise_constant_fn(epoch):\n",
        "    if epoch < 5:\n",
        "        return 0.01\n",
        "    elif epoch < 15:\n",
        "        return 0.005\n",
        "    else:\n",
        "        return 0.001"
      ],
      "metadata": {
        "id": "ClW9rxwq0QwC"
      },
      "execution_count": 16,
      "outputs": []
    },
    {
      "cell_type": "code",
      "source": [
        "n_epochs = 20\n",
        "\n",
        "# Create a learning rate scheduler callback using the piecewise constant function\n",
        "lr_scheduler = tf.keras.callbacks.LearningRateScheduler(piecewise_constant_fn)\n",
        "model = build_model()\n",
        "\n",
        "# Initialize the optimizer with an initial learning rate (lr0)\n",
        "lr0 = 0.01\n",
        "optimizer = tf.keras.optimizers.Nadam(learning_rate=lr0)\n",
        "model.compile(loss=\"sparse_categorical_crossentropy\", optimizer=optimizer,\n",
        "              metrics=[\"accuracy\"])\n",
        "history = model.fit(X_train, y_train, epochs=n_epochs,\n",
        "                    validation_data=(X_valid, y_valid),\n",
        "                    callbacks=[lr_scheduler])"
      ],
      "metadata": {
        "colab": {
          "base_uri": "https://localhost:8080/"
        },
        "id": "Zv_31bXxxPmQ",
        "outputId": "100afaba-3df0-493b-8f8c-151a0d74d12c"
      },
      "execution_count": 17,
      "outputs": [
        {
          "output_type": "stream",
          "name": "stdout",
          "text": [
            "Epoch 1/20\n",
            "1719/1719 [==============================] - 104s 34ms/step - loss: 33.4269 - accuracy: 0.0980 - val_loss: 2.3029 - val_accuracy: 0.0994 - lr: 0.0100\n",
            "Epoch 2/20\n",
            "1719/1719 [==============================] - 56s 33ms/step - loss: 2.3038 - accuracy: 0.1011 - val_loss: 2.3044 - val_accuracy: 0.0980 - lr: 0.0100\n",
            "Epoch 3/20\n",
            "1719/1719 [==============================] - 55s 32ms/step - loss: 2.3041 - accuracy: 0.1000 - val_loss: 2.3028 - val_accuracy: 0.1016 - lr: 0.0100\n",
            "Epoch 4/20\n",
            "1719/1719 [==============================] - 56s 32ms/step - loss: 2.3039 - accuracy: 0.1005 - val_loss: 2.3036 - val_accuracy: 0.1030 - lr: 0.0100\n",
            "Epoch 5/20\n",
            "1719/1719 [==============================] - 58s 34ms/step - loss: 2.3039 - accuracy: 0.0991 - val_loss: 2.3043 - val_accuracy: 0.1054 - lr: 0.0100\n",
            "Epoch 6/20\n",
            "1719/1719 [==============================] - 54s 31ms/step - loss: 2.3034 - accuracy: 0.0998 - val_loss: 2.3030 - val_accuracy: 0.1016 - lr: 0.0050\n",
            "Epoch 7/20\n",
            "1719/1719 [==============================] - 55s 32ms/step - loss: 2.3033 - accuracy: 0.0998 - val_loss: 2.3033 - val_accuracy: 0.0980 - lr: 0.0050\n",
            "Epoch 8/20\n",
            "1719/1719 [==============================] - 55s 32ms/step - loss: 2.3033 - accuracy: 0.0990 - val_loss: 2.3043 - val_accuracy: 0.0900 - lr: 0.0050\n",
            "Epoch 9/20\n",
            "1719/1719 [==============================] - 55s 32ms/step - loss: 2.3033 - accuracy: 0.0984 - val_loss: 2.3024 - val_accuracy: 0.1016 - lr: 0.0050\n",
            "Epoch 10/20\n",
            "1719/1719 [==============================] - 56s 33ms/step - loss: 2.3034 - accuracy: 0.0980 - val_loss: 2.3030 - val_accuracy: 0.1054 - lr: 0.0050\n",
            "Epoch 11/20\n",
            "1719/1719 [==============================] - 54s 31ms/step - loss: 2.3033 - accuracy: 0.0991 - val_loss: 2.3031 - val_accuracy: 0.0980 - lr: 0.0050\n",
            "Epoch 12/20\n",
            "1719/1719 [==============================] - 54s 32ms/step - loss: 2.3033 - accuracy: 0.0993 - val_loss: 2.3034 - val_accuracy: 0.0994 - lr: 0.0050\n",
            "Epoch 13/20\n",
            "1719/1719 [==============================] - 55s 32ms/step - loss: 2.3033 - accuracy: 0.0990 - val_loss: 2.3054 - val_accuracy: 0.0934 - lr: 0.0050\n",
            "Epoch 14/20\n",
            "1719/1719 [==============================] - 55s 32ms/step - loss: 2.3034 - accuracy: 0.0988 - val_loss: 2.3030 - val_accuracy: 0.1030 - lr: 0.0050\n",
            "Epoch 15/20\n",
            "1719/1719 [==============================] - 57s 33ms/step - loss: 2.3032 - accuracy: 0.0986 - val_loss: 2.3047 - val_accuracy: 0.0900 - lr: 0.0050\n",
            "Epoch 16/20\n",
            "1719/1719 [==============================] - 55s 32ms/step - loss: 2.3029 - accuracy: 0.0980 - val_loss: 2.3027 - val_accuracy: 0.1030 - lr: 0.0010\n",
            "Epoch 17/20\n",
            "1719/1719 [==============================] - 56s 32ms/step - loss: 2.3027 - accuracy: 0.0991 - val_loss: 2.3030 - val_accuracy: 0.0900 - lr: 0.0010\n",
            "Epoch 18/20\n",
            "1719/1719 [==============================] - 56s 33ms/step - loss: 2.3027 - accuracy: 0.1003 - val_loss: 2.3025 - val_accuracy: 0.1016 - lr: 0.0010\n",
            "Epoch 19/20\n",
            "1719/1719 [==============================] - 55s 32ms/step - loss: 2.3028 - accuracy: 0.0973 - val_loss: 2.3032 - val_accuracy: 0.0900 - lr: 0.0010\n",
            "Epoch 20/20\n",
            "1719/1719 [==============================] - 58s 33ms/step - loss: 2.3028 - accuracy: 0.0989 - val_loss: 2.3030 - val_accuracy: 0.0900 - lr: 0.0010\n"
          ]
        }
      ]
    },
    {
      "cell_type": "code",
      "source": [
        "# Plot the learning rate schedule\n",
        "steps = np.arange(n_epochs)\n",
        "lrs = np.array([piecewise_constant_fn(step) for step in steps])\n",
        "\n",
        "plt.figure(figsize=(5, 3))\n",
        "plt.plot(steps, lrs, \"-\")\n",
        "plt.axis([0, steps.max(), 0, 0.0105])\n",
        "plt.xlabel(\"Epoch\")\n",
        "plt.ylabel(\"Learning Rate\")\n",
        "plt.title(\"Piecewise Constant Scheduling\", fontsize=14)\n",
        "plt.grid(True)\n",
        "plt.show()"
      ],
      "metadata": {
        "colab": {
          "base_uri": "https://localhost:8080/",
          "height": 334
        },
        "id": "p5nAE1z7xY9-",
        "outputId": "9d760fb5-95af-4475-a026-76b17cb7df73"
      },
      "execution_count": 19,
      "outputs": [
        {
          "output_type": "display_data",
          "data": {
            "text/plain": [
              "<Figure size 500x300 with 1 Axes>"
            ],
            "image/png": "[encoded data removed]"
          },
          "metadata": {}
        }
      ]
    },
    {
      "cell_type": "code",
      "source": [],
      "metadata": {
        "id": "VOQM7UZ14vlI"
      },
      "execution_count": null,
      "outputs": []
    }
  ]
}