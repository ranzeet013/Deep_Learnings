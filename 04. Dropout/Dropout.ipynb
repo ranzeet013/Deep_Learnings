{
  "nbformat": 4,
  "nbformat_minor": 0,
  "metadata": {
    "colab": {
      "provenance": []
    },
    "kernelspec": {
      "name": "python3",
      "display_name": "Python 3"
    },
    "language_info": {
      "name": "python"
    }
  },
  "cells": [
    {
      "cell_type": "markdown",
      "source": [
        "**Dropout**\n",
        "\n",
        "Dropout is a regularization technique commonly used in neural networks to prevent overfitting. During training, dropout randomly sets a fraction of input units to zero at each update iteration, effectively \"dropping out\" these units. This prevents units from co-adapting too much and forces the network to learn more robust features."
      ],
      "metadata": {
        "id": "XWPYUP2P2b2g"
      }
    },
    {
      "cell_type": "code",
      "execution_count": 1,
      "metadata": {
        "colab": {
          "base_uri": "https://localhost:8080/"
        },
        "id": "dnhkBPlc2P2F",
        "outputId": "0e99d702-6be9-4744-b395-772a82d7b37c"
      },
      "outputs": [
        {
          "output_type": "stream",
          "name": "stdout",
          "text": [
            "Downloading data from https://storage.googleapis.com/tensorflow/tf-keras-datasets/train-labels-idx1-ubyte.gz\n",
            "29515/29515 [==============================] - 0s 0us/step\n",
            "Downloading data from https://storage.googleapis.com/tensorflow/tf-keras-datasets/train-images-idx3-ubyte.gz\n",
            "26421880/26421880 [==============================] - 0s 0us/step\n",
            "Downloading data from https://storage.googleapis.com/tensorflow/tf-keras-datasets/t10k-labels-idx1-ubyte.gz\n",
            "5148/5148 [==============================] - 0s 0us/step\n",
            "Downloading data from https://storage.googleapis.com/tensorflow/tf-keras-datasets/t10k-images-idx3-ubyte.gz\n",
            "4422102/4422102 [==============================] - 0s 0us/step\n"
          ]
        }
      ],
      "source": [
        "import tensorflow as tf\n",
        "from functools import partial  # Import the partial function\n",
        "\n",
        "# Load the Fashion MNIST dataset\n",
        "fashion_mnist = tf.keras.datasets.fashion_mnist.load_data()\n",
        "(X_train_full, y_train_full), (X_test, y_test) = fashion_mnist\n",
        "\n",
        "# Split the dataset into training, validation, and test sets\n",
        "X_train, X_valid = X_train_full[:-5000] / 255.0, X_train_full[-5000:] / 255.0\n",
        "y_train, y_valid = y_train_full[:-5000], y_train_full[-5000:]\n",
        "X_test = X_test / 255.0\n",
        "\n",
        "# Define class names for the Fashion MNIST dataset\n",
        "class_names = [\"T-shirt/top\", \"Trouser\", \"Pullover\", \"Dress\", \"Coat\",\n",
        "               \"Sandal\", \"Shirt\", \"Sneaker\", \"Bag\", \"Ankle boot\"]\n",
        "\n",
        "# Calculate the mean and standard deviation of the pixel values in the training set\n",
        "pixel_means = X_train.mean(axis=0, keepdims=True)\n",
        "pixel_stds = X_train.std(axis=0, keepdims=True)\n",
        "\n",
        "# Standardize the training, validation, and test sets using the mean and standard deviation of the training set\n",
        "X_train_scaled = (X_train - pixel_means) / pixel_stds\n",
        "X_valid_scaled = (X_valid - pixel_means) / pixel_stds\n",
        "X_test_scaled = (X_test - pixel_means) / pixel_stds"
      ]
    },
    {
      "cell_type": "code",
      "source": [
        "# Set random seed for reproducibility\n",
        "tf.random.set_seed(42)\n",
        "\n",
        "# Build the model architecture with dropout layers\n",
        "model = tf.keras.Sequential([\n",
        "    tf.keras.layers.Flatten(input_shape=[28, 28]),  # Flatten the input images (28x28 pixels)\n",
        "    tf.keras.layers.Dropout(rate=0.2),  # Dropout layer with a dropout rate of 0.2\n",
        "    tf.keras.layers.Dense(100, activation=\"relu\", kernel_initializer=\"he_normal\"),  # Dense layer with ReLU activation and He initialization\n",
        "    tf.keras.layers.Dropout(rate=0.2),  # Dropout layer with a dropout rate of 0.2\n",
        "    tf.keras.layers.Dense(100, activation=\"relu\", kernel_initializer=\"he_normal\"),  # Dense layer with ReLU activation and He initialization\n",
        "    tf.keras.layers.Dropout(rate=0.2),  # Dropout layer with a dropout rate of 0.2\n",
        "    tf.keras.layers.Dense(10, activation=\"softmax\")  # Output layer with 10 units and softmax activation\n",
        "])"
      ],
      "metadata": {
        "id": "nfoRyTMQ2jYK"
      },
      "execution_count": 2,
      "outputs": []
    },
    {
      "cell_type": "code",
      "source": [
        "\n",
        "# Compile the model with specified loss function, optimizer, and metrics\n",
        "optimizer = tf.keras.optimizers.SGD(learning_rate=0.01, momentum=0.9)  # SGD optimizer with specified learning rate and momentum\n",
        "model.compile(loss=\"sparse_categorical_crossentropy\", optimizer=optimizer, metrics=[\"accuracy\"])\n",
        "\n",
        "# Train the model with the compiled settings\n",
        "history = model.fit(X_train, y_train, epochs=10, validation_data=(X_valid, y_valid))"
      ],
      "metadata": {
        "colab": {
          "base_uri": "https://localhost:8080/"
        },
        "id": "OHvLi9Di2_Hd",
        "outputId": "30b8396e-ee13-45a2-dd11-88ec053f2a51"
      },
      "execution_count": 3,
      "outputs": [
        {
          "output_type": "stream",
          "name": "stdout",
          "text": [
            "Epoch 1/10\n",
            "1719/1719 [==============================] - 8s 4ms/step - loss: 0.6737 - accuracy: 0.7527 - val_loss: 0.4406 - val_accuracy: 0.8404\n",
            "Epoch 2/10\n",
            "1719/1719 [==============================] - 8s 5ms/step - loss: 0.5135 - accuracy: 0.8126 - val_loss: 0.4208 - val_accuracy: 0.8478\n",
            "Epoch 3/10\n",
            "1719/1719 [==============================] - 6s 4ms/step - loss: 0.4782 - accuracy: 0.8241 - val_loss: 0.3962 - val_accuracy: 0.8514\n",
            "Epoch 4/10\n",
            "1719/1719 [==============================] - 7s 4ms/step - loss: 0.4502 - accuracy: 0.8328 - val_loss: 0.3743 - val_accuracy: 0.8612\n",
            "Epoch 5/10\n",
            "1719/1719 [==============================] - 6s 3ms/step - loss: 0.4343 - accuracy: 0.8402 - val_loss: 0.3622 - val_accuracy: 0.8652\n",
            "Epoch 6/10\n",
            "1719/1719 [==============================] - 7s 4ms/step - loss: 0.4284 - accuracy: 0.8416 - val_loss: 0.3578 - val_accuracy: 0.8668\n",
            "Epoch 7/10\n",
            "1719/1719 [==============================] - 6s 3ms/step - loss: 0.4166 - accuracy: 0.8465 - val_loss: 0.3617 - val_accuracy: 0.8658\n",
            "Epoch 8/10\n",
            "1719/1719 [==============================] - 7s 4ms/step - loss: 0.4129 - accuracy: 0.8473 - val_loss: 0.3495 - val_accuracy: 0.8714\n",
            "Epoch 9/10\n",
            "1719/1719 [==============================] - 5s 3ms/step - loss: 0.4061 - accuracy: 0.8500 - val_loss: 0.3451 - val_accuracy: 0.8736\n",
            "Epoch 10/10\n",
            "1719/1719 [==============================] - 7s 4ms/step - loss: 0.3932 - accuracy: 0.8547 - val_loss: 0.3488 - val_accuracy: 0.8704\n"
          ]
        }
      ]
    },
    {
      "cell_type": "code",
      "source": [],
      "metadata": {
        "id": "6TLL5fqh3Bdf"
      },
      "execution_count": null,
      "outputs": []
    }
  ]
}