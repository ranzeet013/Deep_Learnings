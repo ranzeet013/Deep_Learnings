{
  "nbformat": 4,
  "nbformat_minor": 0,
  "metadata": {
    "colab": {
      "provenance": []
    },
    "kernelspec": {
      "name": "python3",
      "display_name": "Python 3"
    },
    "language_info": {
      "name": "python"
    }
  },
  "cells": [
    {
      "cell_type": "markdown",
      "source": [
        "**Exponential decay**\n",
        "\n",
        "Exponential decay of the learning rate is a technique where the learning rate starts at an initial value, \\( lr_0 \\), and decreases exponentially over time according to the formula:\n",
        "\n",
        " *learning rate  = initial learning rate x decay _rate to the power( step / decay_step )*\n",
        "\n",
        "\n",
        "Here, \\( lr_0 \\) is the initial learning rate, \\( t \\) is the current epoch number, and \\( s \\) is the decay step that determines how quickly the learning rate decreases. For example, if \\( lr_0 = 0.01 \\) and \\( s = 20 \\), the learning rate will reduce by a factor of 10 every 20 epochs, going from 0.01 at epoch 0 to 0.001 at epoch 20, and 0.0001 at epoch 40. This approach allows for larger adjustments early in training and finer adjustments later on, aiding in better convergence."
      ],
      "metadata": {
        "id": "MjmiSbpHihTT"
      }
    },
    {
      "cell_type": "code",
      "execution_count": 1,
      "metadata": {
        "id": "XPyvQ_9yfMrK"
      },
      "outputs": [],
      "source": [
        "import tensorflow as tf\n",
        "import numpy as np\n",
        "import matplotlib.pyplot as plt"
      ]
    },
    {
      "cell_type": "code",
      "source": [
        "# Define the model architecture\n",
        "def build_model():\n",
        "    model = tf.keras.Sequential()\n",
        "    model.add(tf.keras.layers.Flatten(input_shape=[28, 28]))\n",
        "\n",
        "    for layer in range(100):\n",
        "        model.add(tf.keras.layers.Dense(100, activation=\"relu\", kernel_initializer=\"he_normal\"))\n",
        "\n",
        "    # Add the output layer with 10 neurons and softmax activation\n",
        "    model.add(tf.keras.layers.Dense(10, activation=\"softmax\"))\n",
        "\n",
        "    return model"
      ],
      "metadata": {
        "id": "z83aftEQhi_o"
      },
      "execution_count": 10,
      "outputs": []
    },
    {
      "cell_type": "code",
      "source": [
        "# Load Fashion MNIST dataset\n",
        "fashion_mnist = tf.keras.datasets.fashion_mnist.load_data()\n",
        "(X_train_full, y_train_full), (X_test, y_test) = fashion_mnist\n",
        "\n",
        "# Split the data into training and validation sets\n",
        "X_train, y_train = X_train_full[:-5000], y_train_full[:-5000]\n",
        "X_valid, y_valid = X_train_full[-5000:], y_train_full[-5000:]\n",
        "\n",
        "# Normalize the pixel values to the range [0, 1]\n",
        "X_train, X_valid, X_test = X_train / 255.0, X_valid / 255.0, X_test / 255.0"
      ],
      "metadata": {
        "id": "827VuCxahkmp"
      },
      "execution_count": 12,
      "outputs": []
    },
    {
      "cell_type": "code",
      "source": [
        "# Define the optimizer with legacy SGD and learning rate decay\n",
        "optimizer = tf.keras.optimizers.legacy.SGD(learning_rate=0.01, decay=1e-4)\n",
        "\n",
        "# Compute the mean and standard deviation of the training set for normalization\n",
        "pixel_means = X_train.mean(axis=0, keepdims=True)\n",
        "pixel_stds = X_train.std(axis=0, keepdims=True)\n",
        "\n",
        "# Normalize the datasets using the computed mean and std deviation\n",
        "X_train_scaled = (X_train - pixel_means) / pixel_stds\n",
        "X_valid_scaled = (X_valid - pixel_means) / pixel_stds\n",
        "X_test_scaled = (X_test - pixel_means) / pixel_stds"
      ],
      "metadata": {
        "id": "V8bGJEX-hni-"
      },
      "execution_count": 13,
      "outputs": []
    },
    {
      "cell_type": "code",
      "source": [
        "# Exponential decay function\n",
        "def exponential_decay(lr0, s):\n",
        "    def exponential_decay_fn(epoch):\n",
        "        return lr0 * 0.1 ** (epoch / s)\n",
        "    return exponential_decay_fn\n",
        "\n",
        "# Instantiate the decay function with an initial learning rate of 0.01 and decay schedule of 20 epochs\n",
        "exponential_decay_fn = exponential_decay(lr0=0.01, s=20)"
      ],
      "metadata": {
        "id": "Ln2900pxh7Eh"
      },
      "execution_count": 14,
      "outputs": []
    },
    {
      "cell_type": "code",
      "source": [
        "# Set a random seed for reproducibility\n",
        "tf.random.set_seed(42)\n",
        "\n",
        "# Build and compile the model\n",
        "model = build_model()\n",
        "optimizer = tf.keras.optimizers.SGD(learning_rate=0.001)\n",
        "model.compile(loss=\"sparse_categorical_crossentropy\", optimizer=optimizer, metrics=[\"accuracy\"])"
      ],
      "metadata": {
        "id": "M0i_IMy0h-QC"
      },
      "execution_count": 15,
      "outputs": []
    },
    {
      "cell_type": "code",
      "source": [
        "# Number of epochs for training\n",
        "n_epochs = 10\n",
        "# Create a learning rate scheduler callback using the exponential decay function\n",
        "lr_scheduler = tf.keras.callbacks.LearningRateScheduler(exponential_decay_fn)\n",
        "# Train the model with the learning rate scheduler callback\n",
        "history = model.fit(X_train_scaled, y_train, epochs=n_epochs, validation_data=(X_valid_scaled, y_valid), callbacks=[lr_scheduler])"
      ],
      "metadata": {
        "colab": {
          "base_uri": "https://localhost:8080/"
        },
        "id": "gnROfeNqiAdn",
        "outputId": "c87d1db3-6455-473e-eff3-1033789a55f4"
      },
      "execution_count": 16,
      "outputs": [
        {
          "output_type": "stream",
          "name": "stdout",
          "text": [
            "Epoch 1/10\n",
            "1719/1719 [==============================] - 44s 20ms/step - loss: 2.2421 - accuracy: 0.1261 - val_loss: 2.3031 - val_accuracy: 0.0994 - lr: 0.0100\n",
            "Epoch 2/10\n",
            "1719/1719 [==============================] - 33s 19ms/step - loss: 1.8491 - accuracy: 0.2388 - val_loss: 1.4301 - val_accuracy: 0.3978 - lr: 0.0089\n",
            "Epoch 3/10\n",
            "1719/1719 [==============================] - 46s 27ms/step - loss: 1.9456 - accuracy: 0.2234 - val_loss: 1.7817 - val_accuracy: 0.2504 - lr: 0.0079\n",
            "Epoch 4/10\n",
            "1719/1719 [==============================] - 33s 19ms/step - loss: 1.4826 - accuracy: 0.3576 - val_loss: 1.3374 - val_accuracy: 0.4420 - lr: 0.0071\n",
            "Epoch 5/10\n",
            "1719/1719 [==============================] - 44s 26ms/step - loss: 1.2719 - accuracy: 0.4696 - val_loss: 1.0990 - val_accuracy: 0.5566 - lr: 0.0063\n",
            "Epoch 6/10\n",
            "1719/1719 [==============================] - 34s 20ms/step - loss: 1.1707 - accuracy: 0.5150 - val_loss: 0.8692 - val_accuracy: 0.6770 - lr: 0.0056\n",
            "Epoch 7/10\n",
            "1719/1719 [==============================] - 33s 19ms/step - loss: 0.9367 - accuracy: 0.6197 - val_loss: 0.8955 - val_accuracy: 0.6410 - lr: 0.0050\n",
            "Epoch 8/10\n",
            "1719/1719 [==============================] - 37s 22ms/step - loss: 0.7841 - accuracy: 0.6898 - val_loss: 0.7356 - val_accuracy: 0.7190 - lr: 0.0045\n",
            "Epoch 9/10\n",
            "1719/1719 [==============================] - 33s 19ms/step - loss: 0.7396 - accuracy: 0.7169 - val_loss: 0.7543 - val_accuracy: 0.7360 - lr: 0.0040\n",
            "Epoch 10/10\n",
            "1719/1719 [==============================] - 38s 22ms/step - loss: 0.7917 - accuracy: 0.6976 - val_loss: 0.7637 - val_accuracy: 0.7148 - lr: 0.0035\n"
          ]
        }
      ]
    },
    {
      "cell_type": "code",
      "source": [
        "# Evaluate the model on the test set\n",
        "test_loss, test_acc = model.evaluate(X_test_scaled, y_test)\n",
        "print(f'Test accuracy: {test_acc:.4f}')\n",
        "\n",
        "# Plot the learning rate schedule as a staircase diagram\n",
        "epochs = np.arange(n_epochs)\n",
        "learning_rates = [exponential_decay_fn(epoch) for epoch in epochs]\n",
        "\n",
        "plt.figure(figsize=(5, 3))\n",
        "plt.step(epochs, learning_rates, where='post')\n",
        "plt.xlabel('Epoch')\n",
        "plt.ylabel('Learning Rate')\n",
        "plt.title('Exponential Decay', fontsize=14)\n",
        "plt.grid(True)"
      ],
      "metadata": {
        "colab": {
          "base_uri": "https://localhost:8080/",
          "height": 369
        },
        "id": "F0HA_78diIrP",
        "outputId": "c9096cfd-6593-47e8-ee7f-301f25a8fe37"
      },
      "execution_count": 17,
      "outputs": [
        {
          "output_type": "stream",
          "name": "stdout",
          "text": [
            "313/313 [==============================] - 4s 11ms/step - loss: 0.7871 - accuracy: 0.7053\n",
            "Test accuracy: 0.7053\n"
          ]
        },
        {
          "output_type": "display_data",
          "data": {
            "text/plain": [
              "<Figure size 500x300 with 1 Axes>"
            ],
            "image/png": "[encoded data removed]"
          },
          "metadata": {}
        }
      ]
    },
    {
      "cell_type": "code",
      "source": [],
      "metadata": {
        "id": "yQtxZO3_k-SA"
      },
      "execution_count": null,
      "outputs": []
    }
  ]
}