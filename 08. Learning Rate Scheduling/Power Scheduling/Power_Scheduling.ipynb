{
  "nbformat": 4,
  "nbformat_minor": 0,
  "metadata": {
    "colab": {
      "provenance": []
    },
    "kernelspec": {
      "name": "python3",
      "display_name": "Python 3"
    },
    "language_info": {
      "name": "python"
    }
  },
  "cells": [
    {
      "cell_type": "markdown",
      "source": [
        "# Power Scheduling with Power Decay\n",
        "\n",
        "Power scheduling with power decay is a technique used to adjust the learning rate during the training of a machine learning model. The learning rate at any given step \\( s \\) is calculated using the formula:\n",
        "\n",
        "learning_rate = initial_learning_rate / (1 + step / decay_steps)**power\n",
        "\n",
        "\n"
      ],
      "metadata": {
        "id": "2aTaEfn7PQpx"
      }
    },
    {
      "cell_type": "code",
      "source": [
        "import tensorflow as tf\n",
        "import numpy as np\n",
        "import matplotlib.pyplot as plt"
      ],
      "metadata": {
        "id": "EUDCYxaRMomD"
      },
      "execution_count": 2,
      "outputs": []
    },
    {
      "cell_type": "code",
      "execution_count": 3,
      "metadata": {
        "colab": {
          "base_uri": "https://localhost:8080/"
        },
        "id": "Czh3CCR5LSvy",
        "outputId": "e27f7c80-d948-4889-cef0-122aa7d8812f"
      },
      "outputs": [
        {
          "output_type": "stream",
          "name": "stdout",
          "text": [
            "Downloading data from https://storage.googleapis.com/tensorflow/tf-keras-datasets/train-labels-idx1-ubyte.gz\n",
            "29515/29515 [==============================] - 0s 0us/step\n",
            "Downloading data from https://storage.googleapis.com/tensorflow/tf-keras-datasets/train-images-idx3-ubyte.gz\n",
            "26421880/26421880 [==============================] - 0s 0us/step\n",
            "Downloading data from https://storage.googleapis.com/tensorflow/tf-keras-datasets/t10k-labels-idx1-ubyte.gz\n",
            "5148/5148 [==============================] - 0s 0us/step\n",
            "Downloading data from https://storage.googleapis.com/tensorflow/tf-keras-datasets/t10k-images-idx3-ubyte.gz\n",
            "4422102/4422102 [==============================] - 0s 0us/step\n"
          ]
        }
      ],
      "source": [
        "# Load Fashion MNIST dataset\n",
        "fashion_mnist = tf.keras.datasets.fashion_mnist.load_data()\n",
        "(X_train_full, y_train_full), (X_test, y_test) = fashion_mnist\n",
        "\n",
        "# Split the data into training and validation sets\n",
        "X_train, y_train = X_train_full[:-5000], y_train_full[:-5000]\n",
        "X_valid, y_valid = X_train_full[-5000:], y_train_full[-5000:]\n",
        "\n",
        "# Normalize the pixel values to the range [0, 1]\n",
        "X_train, X_valid, X_test = X_train / 255.0, X_valid / 255.0, X_test / 255.0"
      ]
    },
    {
      "cell_type": "code",
      "source": [
        "# Define class names\n",
        "class_names = [\"T-shirt/top\", \"Trouser\", \"Pullover\", \"Dress\", \"Coat\",\n",
        "               \"Sandal\", \"Shirt\", \"Sneaker\", \"Bag\", \"Ankle boot\"]"
      ],
      "metadata": {
        "id": "rPqaig7SMqMM"
      },
      "execution_count": 4,
      "outputs": []
    },
    {
      "cell_type": "code",
      "source": [
        "# Compute the mean and standard deviation of the training set for normalization\n",
        "pixel_means = X_train.mean(axis=0, keepdims=True)\n",
        "pixel_stds = X_train.std(axis=0, keepdims=True)\n",
        "\n",
        "# Normalize the datasets using the computed mean and std deviation\n",
        "X_train_scaled = (X_train - pixel_means) / pixel_stds\n",
        "X_valid_scaled = (X_valid - pixel_means) / pixel_stds\n",
        "X_test_scaled = (X_test - pixel_means) / pixel_stds"
      ],
      "metadata": {
        "id": "120n9DVMM4nc"
      },
      "execution_count": 5,
      "outputs": []
    },
    {
      "cell_type": "code",
      "source": [
        "# Define the model architecture\n",
        "model = tf.keras.Sequential()\n",
        "model.add(tf.keras.layers.Flatten(input_shape=[28, 28]))\n",
        "\n",
        "for layer in range(100):\n",
        "    model.add(tf.keras.layers.Dense(100, activation=\"relu\", kernel_initializer=\"he_normal\"))\n",
        "\n",
        "# Add the output layer with 10 neurons and softmax activation\n",
        "model.add(tf.keras.layers.Dense(10, activation=\"softmax\"))\n",
        "\n",
        "# Define the optimizer with legacy SGD and learning rate decay\n",
        "optimizer = tf.keras.optimizers.legacy.SGD(learning_rate=0.01, decay=1e-4)\n"
      ],
      "metadata": {
        "id": "izRwOswGM-_A"
      },
      "execution_count": 7,
      "outputs": []
    },
    {
      "cell_type": "code",
      "source": [
        "# Define a learning rate schedule\n",
        "lr_schedule = tf.keras.optimizers.schedules.InverseTimeDecay(\n",
        "    initial_learning_rate=0.01,\n",
        "    decay_steps=10_000,\n",
        "    decay_rate=1.0,\n",
        "    staircase=False\n",
        ")\n",
        "\n",
        "# Use the learning rate schedule with SGD optimizer\n",
        "optimizer = tf.keras.optimizers.SGD(learning_rate=lr_schedule)"
      ],
      "metadata": {
        "id": "d07uchj2NLdY"
      },
      "execution_count": 9,
      "outputs": []
    },
    {
      "cell_type": "code",
      "source": [
        "# Function to build and train the model\n",
        "def build_and_train_model(optimizer):\n",
        "    model.compile(loss=\"sparse_categorical_crossentropy\",\n",
        "                  optimizer=optimizer,\n",
        "                  metrics=[\"accuracy\"])\n",
        "    history = model.fit(X_train_scaled, y_train, epochs=10,\n",
        "                        validation_data=(X_valid_scaled, y_valid))\n",
        "    return history\n",
        "\n",
        "# Train the model with power scheduling\n",
        "history_power_scheduling = build_and_train_model(optimizer)"
      ],
      "metadata": {
        "colab": {
          "base_uri": "https://localhost:8080/"
        },
        "id": "JBqRrpyONSRS",
        "outputId": "fb1c6d4b-6d34-455f-c714-a5fe9ad9038b"
      },
      "execution_count": 10,
      "outputs": [
        {
          "output_type": "stream",
          "name": "stdout",
          "text": [
            "Epoch 1/10\n",
            "1719/1719 [==============================] - 42s 19ms/step - loss: 1.9654 - accuracy: 0.2011 - val_loss: 1.5060 - val_accuracy: 0.2882\n",
            "Epoch 2/10\n",
            "1719/1719 [==============================] - 57s 33ms/step - loss: 2.1694 - accuracy: 0.1414 - val_loss: 2.3044 - val_accuracy: 0.1046\n",
            "Epoch 3/10\n",
            "1719/1719 [==============================] - 36s 21ms/step - loss: 2.1530 - accuracy: 0.1557 - val_loss: 1.5150 - val_accuracy: 0.3152\n",
            "Epoch 4/10\n",
            "1719/1719 [==============================] - 32s 19ms/step - loss: 1.4589 - accuracy: 0.3800 - val_loss: 1.3766 - val_accuracy: 0.4086\n",
            "Epoch 5/10\n",
            "1719/1719 [==============================] - 33s 19ms/step - loss: 1.1649 - accuracy: 0.5284 - val_loss: 1.1631 - val_accuracy: 0.4992\n",
            "Epoch 6/10\n",
            "1719/1719 [==============================] - 35s 21ms/step - loss: 1.1372 - accuracy: 0.5430 - val_loss: 0.9525 - val_accuracy: 0.6194\n",
            "Epoch 7/10\n",
            "1719/1719 [==============================] - 32s 18ms/step - loss: 0.8434 - accuracy: 0.6628 - val_loss: 0.7909 - val_accuracy: 0.7014\n",
            "Epoch 8/10\n",
            "1719/1719 [==============================] - 33s 19ms/step - loss: 0.7692 - accuracy: 0.7133 - val_loss: 0.6810 - val_accuracy: 0.7604\n",
            "Epoch 9/10\n",
            "1719/1719 [==============================] - 34s 20ms/step - loss: 0.7001 - accuracy: 0.7459 - val_loss: 0.8568 - val_accuracy: 0.6874\n",
            "Epoch 10/10\n",
            "1719/1719 [==============================] - 40s 23ms/step - loss: 1.0136 - accuracy: 0.6103 - val_loss: 0.8272 - val_accuracy: 0.6922\n"
          ]
        }
      ]
    },
    {
      "cell_type": "code",
      "source": [
        "# Initial learning rate\n",
        "initial_learning_rate = 0.01\n",
        "\n",
        "# Decay rate and steps for the learning rate schedule\n",
        "decay_rate = 1.0\n",
        "decay_steps = 10_000\n",
        "\n",
        "# Generate an array of steps from 0 to 100,000\n",
        "steps = np.arange(100_000)\n",
        "\n",
        "# Calculate the learning rate for each step without staircase (continuous decay)\n",
        "lrs = initial_learning_rate / (1 + decay_rate * steps / decay_steps)\n",
        "\n",
        "# Calculate the learning rate for each step with staircase (discrete decay)\n",
        "lrs2 = initial_learning_rate / (1 + decay_rate * np.floor(steps / decay_steps))\n",
        "\n",
        "plt.figure(figsize=(5, 3))\n",
        "plt.plot(steps, lrs, \"-\", label=\"staircase=False\")\n",
        "plt.plot(steps, lrs2, \"-\", label=\"staircase=True\")\n",
        "plt.axis([0, steps.max(), 0, 0.0105])\n",
        "plt.xlabel(\"Step\")\n",
        "plt.ylabel(\"Learning Rate\")\n",
        "plt.title(\"Power Scheduling\", fontsize=14)\n",
        "plt.legend()\n",
        "plt.grid(True)\n",
        "plt.show()"
      ],
      "metadata": {
        "colab": {
          "base_uri": "https://localhost:8080/",
          "height": 334
        },
        "id": "3uXaf4JaNZ4u",
        "outputId": "7cc1d649-03e1-4316-9fca-4deb2cd2baa6"
      },
      "execution_count": 13,
      "outputs": [
        {
          "output_type": "display_data",
          "data": {
            "text/plain": [
              "<Figure size 500x300 with 1 Axes>"
            ],
            "image/png": "[encoded data removed]"
          },
          "metadata": {}
        }
      ]
    },
    {
      "cell_type": "code",
      "source": [],
      "metadata": {
        "id": "E0NtQzheO8uV"
      },
      "execution_count": null,
      "outputs": []
    }
  ]
}