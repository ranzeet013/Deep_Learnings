{
  "nbformat": 4,
  "nbformat_minor": 0,
  "metadata": {
    "colab": {
      "provenance": []
    },
    "kernelspec": {
      "name": "python3",
      "display_name": "Python 3"
    },
    "language_info": {
      "name": "python"
    }
  },
  "cells": [
    {
      "cell_type": "markdown",
      "source": [
        "**Exponential scheduling**\n",
        "\n",
        "Exponential scheduling is a method to adjust parameters, such as learning rates, over time. It's often used in optimization algorithms and machine learning to ensure smooth parameter changes.\n",
        "\n",
        "Exponential Decay:\n",
        "\n",
        "learning_rate = initial_learning_rate * decay_rate ** (step / decay_steps)\n",
        "\n",
        "- learning_rate: Current learning rate\n",
        "- initial_learning_rate: Starting learning rate\n",
        "- decay_rate: Rate at which the learning rate decays\n",
        "- step: Current time step or iteration\n",
        "- decay_steps: Number of steps after which the learning rate is decayed\n"
      ],
      "metadata": {
        "id": "s5tE2EGHZqBI"
      }
    },
    {
      "cell_type": "code",
      "execution_count": 1,
      "metadata": {
        "id": "5ghyhjTKYjdD"
      },
      "outputs": [],
      "source": [
        "import tensorflow as tf\n",
        "import numpy as np\n",
        "import matplotlib.pyplot as plt"
      ]
    },
    {
      "cell_type": "code",
      "source": [
        "# Load Fashion MNIST dataset\n",
        "fashion_mnist = tf.keras.datasets.fashion_mnist.load_data()\n",
        "(X_train_full, y_train_full), (X_test, y_test) = fashion_mnist\n",
        "\n",
        "# Split the data into training and validation sets\n",
        "X_train, y_train = X_train_full[:-5000], y_train_full[:-5000]\n",
        "X_valid, y_valid = X_train_full[-5000:], y_train_full[-5000:]\n",
        "\n",
        "# Normalize the pixel values to the range [0, 1]\n",
        "X_train, X_valid, X_test = X_train / 255.0, X_valid / 255.0, X_test / 255.0"
      ],
      "metadata": {
        "colab": {
          "base_uri": "https://localhost:8080/"
        },
        "id": "eRzmgBOxZEBS",
        "outputId": "d3c62ca7-1e9c-4b00-f423-1f4d41be9dcf"
      },
      "execution_count": 2,
      "outputs": [
        {
          "output_type": "stream",
          "name": "stdout",
          "text": [
            "Downloading data from https://storage.googleapis.com/tensorflow/tf-keras-datasets/train-labels-idx1-ubyte.gz\n",
            "29515/29515 [==============================] - 0s 0us/step\n",
            "Downloading data from https://storage.googleapis.com/tensorflow/tf-keras-datasets/train-images-idx3-ubyte.gz\n",
            "26421880/26421880 [==============================] - 0s 0us/step\n",
            "Downloading data from https://storage.googleapis.com/tensorflow/tf-keras-datasets/t10k-labels-idx1-ubyte.gz\n",
            "5148/5148 [==============================] - 0s 0us/step\n",
            "Downloading data from https://storage.googleapis.com/tensorflow/tf-keras-datasets/t10k-images-idx3-ubyte.gz\n",
            "4422102/4422102 [==============================] - 0s 0us/step\n"
          ]
        }
      ]
    },
    {
      "cell_type": "code",
      "source": [
        "# Define class names\n",
        "class_names = [\"T-shirt/top\", \"Trouser\", \"Pullover\", \"Dress\", \"Coat\",\n",
        "               \"Sandal\", \"Shirt\", \"Sneaker\", \"Bag\", \"Ankle boot\"]"
      ],
      "metadata": {
        "id": "IleWnGwZZGt5"
      },
      "execution_count": 3,
      "outputs": []
    },
    {
      "cell_type": "code",
      "source": [
        "# Compute the mean and standard deviation of the training set for normalization\n",
        "pixel_means = X_train.mean(axis=0, keepdims=True)\n",
        "pixel_stds = X_train.std(axis=0, keepdims=True)\n",
        "\n",
        "# Normalize the datasets using the computed mean and std deviation\n",
        "X_train_scaled = (X_train - pixel_means) / pixel_stds\n",
        "X_valid_scaled = (X_valid - pixel_means) / pixel_stds\n",
        "X_test_scaled = (X_test - pixel_means) / pixel_stds"
      ],
      "metadata": {
        "id": "MlVg-zc3ZJ3-"
      },
      "execution_count": 4,
      "outputs": []
    },
    {
      "cell_type": "code",
      "source": [
        "# Define the model architecture\n",
        "model = tf.keras.Sequential()\n",
        "model.add(tf.keras.layers.Flatten(input_shape=[28, 28]))\n",
        "\n",
        "for layer in range(100):\n",
        "    model.add(tf.keras.layers.Dense(100, activation=\"relu\", kernel_initializer=\"he_normal\"))\n",
        "\n",
        "# Add the output layer with 10 neurons and softmax activation\n",
        "model.add(tf.keras.layers.Dense(10, activation=\"softmax\"))\n",
        "\n",
        "# Define the optimizer with legacy SGD and learning rate decay\n",
        "optimizer = tf.keras.optimizers.legacy.SGD(learning_rate=0.01, decay=1e-4)"
      ],
      "metadata": {
        "id": "R-NH5VuGZMTA"
      },
      "execution_count": 5,
      "outputs": []
    },
    {
      "cell_type": "code",
      "source": [
        "# # Define a learning rate schedule\n",
        "lr_schedule = tf.keras.optimizers.schedules.ExponentialDecay(\n",
        "    initial_learning_rate=0.01,\n",
        "    decay_steps=20_000,\n",
        "    decay_rate=0.1,\n",
        "    staircase=False\n",
        ")\n",
        "optimizer = tf.keras.optimizers.SGD(learning_rate=lr_schedule)"
      ],
      "metadata": {
        "id": "VmarOjNZZPLL"
      },
      "execution_count": 6,
      "outputs": []
    },
    {
      "cell_type": "code",
      "source": [
        "# Function to build and train the model\n",
        "def build_and_train_model(optimizer):\n",
        "    model.compile(loss=\"sparse_categorical_crossentropy\",\n",
        "                  optimizer=optimizer,\n",
        "                  metrics=[\"accuracy\"])\n",
        "    history = model.fit(X_train_scaled, y_train, epochs=10,\n",
        "                        validation_data=(X_valid_scaled, y_valid))\n",
        "    return history\n",
        "\n",
        "# Train the model with power scheduling\n",
        "history_power_scheduling = build_and_train_model(optimizer)"
      ],
      "metadata": {
        "colab": {
          "base_uri": "https://localhost:8080/"
        },
        "id": "BP4KWldjZfht",
        "outputId": "1522d6d3-c311-4a71-e4e3-d4f1f633cc20"
      },
      "execution_count": 7,
      "outputs": [
        {
          "output_type": "stream",
          "name": "stdout",
          "text": [
            "Epoch 1/10\n",
            "1719/1719 [==============================] - 39s 19ms/step - loss: 2.0861 - accuracy: 0.1681 - val_loss: 2.3026 - val_accuracy: 0.1030\n",
            "Epoch 2/10\n",
            "1719/1719 [==============================] - 30s 17ms/step - loss: 2.3030 - accuracy: 0.0992 - val_loss: 2.3029 - val_accuracy: 0.1006\n",
            "Epoch 3/10\n",
            "1719/1719 [==============================] - 30s 18ms/step - loss: 2.3028 - accuracy: 0.0987 - val_loss: 2.3029 - val_accuracy: 0.0994\n",
            "Epoch 4/10\n",
            "1719/1719 [==============================] - 31s 18ms/step - loss: 2.3027 - accuracy: 0.0980 - val_loss: 2.3027 - val_accuracy: 0.0994\n",
            "Epoch 5/10\n",
            "1719/1719 [==============================] - 29s 17ms/step - loss: 2.3027 - accuracy: 0.0984 - val_loss: 2.3028 - val_accuracy: 0.0900\n",
            "Epoch 6/10\n",
            "1719/1719 [==============================] - 31s 18ms/step - loss: 2.3026 - accuracy: 0.1012 - val_loss: 2.3029 - val_accuracy: 0.0900\n",
            "Epoch 7/10\n",
            "1719/1719 [==============================] - 33s 19ms/step - loss: 2.0982 - accuracy: 0.1870 - val_loss: 1.8603 - val_accuracy: 0.2718\n",
            "Epoch 8/10\n",
            "1719/1719 [==============================] - 30s 17ms/step - loss: 1.6150 - accuracy: 0.3068 - val_loss: 1.9078 - val_accuracy: 0.2632\n",
            "Epoch 9/10\n",
            "1719/1719 [==============================] - 38s 22ms/step - loss: 1.3000 - accuracy: 0.4421 - val_loss: 1.2718 - val_accuracy: 0.4408\n",
            "Epoch 10/10\n",
            "1719/1719 [==============================] - 42s 24ms/step - loss: 1.0743 - accuracy: 0.5445 - val_loss: 0.9271 - val_accuracy: 0.6068\n"
          ]
        }
      ]
    },
    {
      "cell_type": "code",
      "source": [
        "initial_learning_rate = 0.01\n",
        "\n",
        "# Decay rate and steps for the learning rate schedule\n",
        "decay_rate = 0.1\n",
        "decay_steps = 20_000\n",
        "\n",
        "steps = np.arange(100_000)\n",
        "\n",
        "# Calculate the learning rate for each step without staircase (continuous decay)\n",
        "lrs = initial_learning_rate * decay_rate ** (steps / decay_steps)\n",
        "# Calculate the learning rate for each step with staircase (discrete decay)\n",
        "lrs2 = initial_learning_rate * decay_rate ** np.floor(steps / decay_steps)\n",
        "\n",
        "plt.figure(figsize=(5, 3))\n",
        "plt.plot(steps, lrs,  \"-\", label=\"staircase=False\")\n",
        "plt.plot(steps, lrs2,  \"-\", label=\"staircase=True\")\n",
        "plt.axis([0, steps.max(), 0, 0.0105])\n",
        "plt.xlabel(\"Step\")\n",
        "plt.ylabel(\"Learning Rate\")\n",
        "plt.title(\"Exponential Scheduling\", fontsize=14)\n",
        "plt.legend()\n",
        "plt.grid(True)\n",
        "plt.show()"
      ],
      "metadata": {
        "colab": {
          "base_uri": "https://localhost:8080/",
          "height": 334
        },
        "id": "Z3_QDxaQZiQA",
        "outputId": "0843cec8-eb95-485f-f3f9-a88a5270eb50"
      },
      "execution_count": 9,
      "outputs": [
        {
          "output_type": "display_data",
          "data": {
            "text/plain": [
              "<Figure size 500x300 with 1 Axes>"
            ],
            "image/png": "[encoded data removed]"
          },
          "metadata": {}
        }
      ]
    },
    {
      "cell_type": "code",
      "source": [],
      "metadata": {
        "id": "uso-8oAsbMwJ"
      },
      "execution_count": null,
      "outputs": []
    }
  ]
}