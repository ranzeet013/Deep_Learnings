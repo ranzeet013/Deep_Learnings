{
  "nbformat": 4,
  "nbformat_minor": 0,
  "metadata": {
    "colab": {
      "provenance": []
    },
    "kernelspec": {
      "name": "python3",
      "display_name": "Python 3"
    },
    "language_info": {
      "name": "python"
    }
  },
  "cells": [
    {
      "cell_type": "markdown",
      "source": [
        "\n",
        "**Performance Scheduling**\n",
        "\n",
        "Performance scheduling is a method used to allocate resources in a system to ensure optimal performance. This approach involves predicting the resource requirements and scheduling tasks in a way that maximizes efficiency and minimizes latency.\n",
        "\n",
        "Let:\n",
        "\n",
        "𝑇\n",
        "𝑖\n",
        "T\n",
        "i\n",
        "​\n",
        "  be the execution time of task\n",
        "𝑖\n",
        "i\n",
        "𝑅\n",
        "𝑖\n",
        "R\n",
        "i\n",
        "​\n",
        "  be the required resources for task\n",
        "𝑖\n",
        "i\n",
        "𝑆\n",
        "𝑖\n",
        "S\n",
        "i\n",
        "​\n",
        "  be the start time of task\n",
        "𝑖\n",
        "i\n",
        "𝐶\n",
        "𝑖\n",
        "C\n",
        "i\n",
        "​\n",
        "  be the completion time of task\n",
        "𝑖\n",
        "i (\n",
        "𝐶\n",
        "𝑖\n",
        "=\n",
        "𝑆\n",
        "𝑖\n",
        "+\n",
        "𝑇\n",
        "𝑖\n",
        "C\n",
        "i\n",
        "​\n",
        " =S\n",
        "i\n",
        "​\n",
        " +T\n",
        "i\n",
        "​\n",
        " )\n",
        "𝑀\n",
        "M be the total number of tasks\n",
        "𝑅\n",
        "𝑚\n",
        "𝑎\n",
        "𝑥\n",
        "R\n",
        "max\n",
        "​\n",
        "  be the total available resources\n",
        "The optimization goal is to:\n",
        "\n",
        "min\n",
        "⁡\n",
        "max\n",
        "⁡\n",
        "(\n",
        "𝐶\n",
        "𝑖\n",
        ")\n",
        "minmax(C\n",
        "i\n",
        "​\n",
        " )\n",
        "\n",
        "Subject to:\n",
        "\n",
        "∑\n",
        "𝑖\n",
        "=\n",
        "1\n",
        "𝑀\n",
        "𝑅\n",
        "𝑖\n",
        "≤\n",
        "𝑅\n",
        "𝑚\n",
        "𝑎\n",
        "𝑥\n",
        "∑\n",
        "i=1\n",
        "M\n",
        "​\n",
        " R\n",
        "i\n",
        "​\n",
        " ≤R\n",
        "max\n",
        "​\n",
        "\n",
        "𝑆\n",
        "𝑖\n",
        "≥\n",
        "0\n",
        "∀\n",
        "𝑖\n",
        "S\n",
        "i\n",
        "​\n",
        " ≥0∀i\n",
        "𝐶\n",
        "𝑖\n",
        "=\n",
        "𝑆\n",
        "𝑖\n",
        "+\n",
        "𝑇\n",
        "𝑖\n",
        "∀\n",
        "𝑖\n",
        "C\n",
        "i\n",
        "​\n",
        " =S\n",
        "i\n",
        "​\n",
        " +T\n",
        "i\n",
        "​\n",
        " ∀i"
      ],
      "metadata": {
        "id": "xWszKY-JayO5"
      }
    },
    {
      "cell_type": "code",
      "execution_count": 1,
      "metadata": {
        "id": "xsWYXrciT0pq"
      },
      "outputs": [],
      "source": [
        "import tensorflow as tf\n",
        "import numpy as np\n",
        "import matplotlib.pyplot as plt"
      ]
    },
    {
      "cell_type": "code",
      "source": [
        "# Define the model architecture\n",
        "def build_model():\n",
        "    model = tf.keras.Sequential()\n",
        "    model.add(tf.keras.layers.Flatten(input_shape=[28, 28]))\n",
        "\n",
        "    for layer in range(100):\n",
        "        model.add(tf.keras.layers.Dense(100, activation=\"relu\", kernel_initializer=\"he_normal\"))\n",
        "\n",
        "    # Add the output layer with 10 neurons and softmax activation\n",
        "    model.add(tf.keras.layers.Dense(10, activation=\"softmax\"))\n",
        "\n",
        "    return model"
      ],
      "metadata": {
        "id": "G14rMn5NT2gp"
      },
      "execution_count": 2,
      "outputs": []
    },
    {
      "cell_type": "code",
      "source": [
        "# Load Fashion MNIST dataset\n",
        "fashion_mnist = tf.keras.datasets.fashion_mnist.load_data()\n",
        "(X_train_full, y_train_full), (X_test, y_test) = fashion_mnist\n",
        "\n",
        "# Split the data into training and validation sets\n",
        "X_train, y_train = X_train_full[:-5000], y_train_full[:-5000]\n",
        "X_valid, y_valid = X_train_full[-5000:], y_train_full[-5000:]\n",
        "\n",
        "# Normalize the pixel values to the range [0, 1]\n",
        "X_train, X_valid, X_test = X_train / 255.0, X_valid / 255.0, X_test / 255.0"
      ],
      "metadata": {
        "colab": {
          "base_uri": "https://localhost:8080/"
        },
        "id": "9CwDyYhkT6A6",
        "outputId": "c4974593-8307-42b3-fbbb-3fddd2eab00d"
      },
      "execution_count": 3,
      "outputs": [
        {
          "output_type": "stream",
          "name": "stdout",
          "text": [
            "Downloading data from https://storage.googleapis.com/tensorflow/tf-keras-datasets/train-labels-idx1-ubyte.gz\n",
            "29515/29515 [==============================] - 0s 0us/step\n",
            "Downloading data from https://storage.googleapis.com/tensorflow/tf-keras-datasets/train-images-idx3-ubyte.gz\n",
            "26421880/26421880 [==============================] - 0s 0us/step\n",
            "Downloading data from https://storage.googleapis.com/tensorflow/tf-keras-datasets/t10k-labels-idx1-ubyte.gz\n",
            "5148/5148 [==============================] - 0s 0us/step\n",
            "Downloading data from https://storage.googleapis.com/tensorflow/tf-keras-datasets/t10k-images-idx3-ubyte.gz\n",
            "4422102/4422102 [==============================] - 0s 0us/step\n"
          ]
        }
      ]
    },
    {
      "cell_type": "code",
      "source": [
        "# Define the optimizer with legacy SGD and learning rate decay\n",
        "optimizer = tf.keras.optimizers.legacy.SGD(learning_rate=0.01, decay=1e-4)\n",
        "\n",
        "# Compute the mean and standard deviation of the training set for normalization\n",
        "pixel_means = X_train.mean(axis=0, keepdims=True)\n",
        "pixel_stds = X_train.std(axis=0, keepdims=True)\n",
        "\n",
        "# Normalize the datasets using the computed mean and std deviation\n",
        "X_train_scaled = (X_train - pixel_means) / pixel_stds\n",
        "X_valid_scaled = (X_valid - pixel_means) / pixel_stds\n",
        "X_test_scaled = (X_test - pixel_means) / pixel_stds"
      ],
      "metadata": {
        "id": "EAuGOZ-TT9SM"
      },
      "execution_count": 4,
      "outputs": []
    },
    {
      "cell_type": "code",
      "source": [
        "\n",
        "# Define class names\n",
        "class_names = [\"T-shirt/top\", \"Trouser\", \"Pullover\", \"Dress\", \"Coat\",\n",
        "               \"Sandal\", \"Shirt\", \"Sneaker\", \"Bag\", \"Ankle boot\"]"
      ],
      "metadata": {
        "id": "ScmMVC2iUAYE"
      },
      "execution_count": 5,
      "outputs": []
    },
    {
      "cell_type": "code",
      "source": [
        "# Define the model architecture\n",
        "model = tf.keras.Sequential()\n",
        "model.add(tf.keras.layers.Flatten(input_shape=[28, 28]))\n",
        "\n",
        "for layer in range(100):\n",
        "    model.add(tf.keras.layers.Dense(100, activation=\"relu\", kernel_initializer=\"he_normal\"))\n",
        "\n",
        "# Add the output layer with 10 neurons and softmax activation\n",
        "model.add(tf.keras.layers.Dense(10, activation=\"softmax\"))"
      ],
      "metadata": {
        "id": "5tqGj6ThUDjm"
      },
      "execution_count": 6,
      "outputs": []
    },
    {
      "cell_type": "code",
      "source": [
        "model = build_model()\n",
        "optimizer = tf.keras.optimizers.SGD(learning_rate=0.001)\n",
        "model.compile(loss=\"sparse_categorical_crossentropy\", optimizer=optimizer,\n",
        "              metrics=[\"accuracy\"])\n",
        "n_epochs = 10\n",
        "# Function to build and train the model\n",
        "lr_scheduler = tf.keras.callbacks.ReduceLROnPlateau(factor=0.5, patience=5)\n",
        "history = model.fit(X_train, y_train, epochs=n_epochs,\n",
        "                    validation_data=(X_valid, y_valid),\n",
        "                    callbacks=[lr_scheduler])"
      ],
      "metadata": {
        "colab": {
          "base_uri": "https://localhost:8080/"
        },
        "id": "-BsIW7rBUHwm",
        "outputId": "2d279406-4818-4d74-8d16-b078086c7e4c"
      },
      "execution_count": 10,
      "outputs": [
        {
          "output_type": "stream",
          "name": "stdout",
          "text": [
            "Epoch 1/10\n",
            "1719/1719 [==============================] - 45s 20ms/step - loss: 1.9656 - accuracy: 0.2563 - val_loss: 1.8310 - val_accuracy: 0.2762 - lr: 0.0010\n",
            "Epoch 2/10\n",
            "1719/1719 [==============================] - 33s 19ms/step - loss: 1.4515 - accuracy: 0.3996 - val_loss: 1.1115 - val_accuracy: 0.5398 - lr: 0.0010\n",
            "Epoch 3/10\n",
            "1719/1719 [==============================] - 34s 19ms/step - loss: 1.1930 - accuracy: 0.4981 - val_loss: 1.0681 - val_accuracy: 0.5352 - lr: 0.0010\n",
            "Epoch 4/10\n",
            "1719/1719 [==============================] - 33s 19ms/step - loss: 1.2428 - accuracy: 0.4779 - val_loss: 1.0577 - val_accuracy: 0.5758 - lr: 0.0010\n",
            "Epoch 5/10\n",
            "1719/1719 [==============================] - 34s 20ms/step - loss: 1.0376 - accuracy: 0.5597 - val_loss: 0.8355 - val_accuracy: 0.6270 - lr: 0.0010\n",
            "Epoch 6/10\n",
            "1719/1719 [==============================] - 35s 21ms/step - loss: 1.0426 - accuracy: 0.5643 - val_loss: 0.9653 - val_accuracy: 0.6128 - lr: 0.0010\n",
            "Epoch 7/10\n",
            "1719/1719 [==============================] - 38s 22ms/step - loss: 0.9426 - accuracy: 0.5922 - val_loss: 0.8172 - val_accuracy: 0.6342 - lr: 0.0010\n",
            "Epoch 8/10\n",
            "1719/1719 [==============================] - 38s 22ms/step - loss: 0.8199 - accuracy: 0.6360 - val_loss: 0.8637 - val_accuracy: 0.6300 - lr: 0.0010\n",
            "Epoch 9/10\n",
            "1719/1719 [==============================] - 33s 19ms/step - loss: 0.7588 - accuracy: 0.6860 - val_loss: 0.6573 - val_accuracy: 0.7514 - lr: 0.0010\n",
            "Epoch 10/10\n",
            "1719/1719 [==============================] - 36s 21ms/step - loss: 0.7648 - accuracy: 0.7108 - val_loss: 0.7414 - val_accuracy: 0.7284 - lr: 0.0010\n"
          ]
        }
      ]
    },
    {
      "cell_type": "code",
      "source": [
        "plt.figure(figsize=(5, 3))\n",
        "# Plotting learning rate against epochs\n",
        "plt.plot(history.epoch, history.history[\"lr\"], \"bo-\")\n",
        "plt.xlabel(\"Epoch\")  # Label for the x-axis\n",
        "plt.ylabel(\"Learning Rate\", color='b')  # Label for the left y-axis with blue color\n",
        "plt.tick_params('y', colors='b')  # Color the ticks on the left y-axis blue\n",
        "plt.gca().set_xlim(0, n_epochs - 1)  # Set x-axis limit from 0 to the number of epochs minus 1\n",
        "plt.grid(True)  # Enable the grid for better readability\n",
        "\n",
        "# Create a second y-axis for the same plot (sharing the same x-axis)\n",
        "ax2 = plt.gca().twinx()\n",
        "ax2.plot(history.epoch, history.history[\"val_loss\"], \"r^-\")  # Plotting validation loss against epochs\n",
        "ax2.set_ylabel('Validation Loss', color='r')  # Label for the right y-axis with red color\n",
        "ax2.tick_params('y', colors='r')  # Color the ticks on the right y-axis red\n",
        "\n",
        "plt.title(\"Reduce LR on Plateau\", fontsize=14)  # Title for the plot\n",
        "plt.show()"
      ],
      "metadata": {
        "colab": {
          "base_uri": "https://localhost:8080/",
          "height": 334
        },
        "id": "UOI-9WXFUaoN",
        "outputId": "9399cef6-23ef-4352-b2b6-c30a8ab2a526"
      },
      "execution_count": 12,
      "outputs": [
        {
          "output_type": "display_data",
          "data": {
            "text/plain": [
              "<Figure size 500x300 with 2 Axes>"
            ],
            "image/png": "[encoded data removed]"
          },
          "metadata": {}
        }
      ]
    },
    {
      "cell_type": "code",
      "source": [],
      "metadata": {
        "id": "WtbhUbgYcHJY"
      },
      "execution_count": null,
      "outputs": []
    }
  ]
}